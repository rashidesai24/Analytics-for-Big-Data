{
 "cells": [
  {
   "cell_type": "code",
   "execution_count": 1,
   "metadata": {
    "colab": {
     "base_uri": "https://localhost:8080/"
    },
    "id": "LHejoLTWWFZJ",
    "outputId": "4b7cfef1-3d82-4de7-dff2-1a5a9502c049"
   },
   "outputs": [
    {
     "name": "stdout",
     "output_type": "stream",
     "text": [
      "Drive already mounted at /content/drive; to attempt to forcibly remount, call drive.mount(\"/content/drive\", force_remount=True).\n"
     ]
    }
   ],
   "source": [
    "# Get the environment ready\n",
    "from google.colab import drive\n",
    "drive.mount('/content/drive')"
   ]
  },
  {
   "cell_type": "code",
   "execution_count": 2,
   "metadata": {
    "id": "DZnjB3CTWIXW"
   },
   "outputs": [],
   "source": [
    "# Install Spark\n",
    "!apt-get install openjdk-8-jdk-headless -qq > /dev/null"
   ]
  },
  {
   "cell_type": "code",
   "execution_count": 3,
   "metadata": {
    "id": "y0v4jvwbWIZ4"
   },
   "outputs": [],
   "source": [
    "!wget -q https://www-us.apache.org/dist/spark/spark-2.4.7/spark-2.4.7-bin-hadoop2.6.tgz # Get Spark Installer version"
   ]
  },
  {
   "cell_type": "code",
   "execution_count": 4,
   "metadata": {
    "id": "NkJwkhLPWIeY"
   },
   "outputs": [],
   "source": [
    "!tar xf spark-2.4.7-bin-hadoop2.6.tgz # Untarring Spark Installer"
   ]
  },
  {
   "cell_type": "code",
   "execution_count": 5,
   "metadata": {
    "id": "2qDg_26eWIgW"
   },
   "outputs": [],
   "source": [
    "!pip install -q findspark"
   ]
  },
  {
   "cell_type": "code",
   "execution_count": 6,
   "metadata": {
    "id": "5GKECPIZWIib"
   },
   "outputs": [],
   "source": [
    "import os\n",
    "os.environ[\"JAVA_HOME\"] = \"/usr/lib/jvm/java-8-openjdk-amd64\"\n",
    "os.environ[\"SPARK_HOME\"] = \"/content/spark-2.4.7-bin-hadoop2.6\""
   ]
  },
  {
   "cell_type": "code",
   "execution_count": 7,
   "metadata": {
    "id": "dNzJas2iWIkm"
   },
   "outputs": [],
   "source": [
    "!pip install -q pyspark"
   ]
  },
  {
   "cell_type": "code",
   "execution_count": 8,
   "metadata": {
    "id": "KOqPz1t6WImh"
   },
   "outputs": [],
   "source": [
    "import findspark\n",
    "findspark.init()\n",
    "from pyspark.sql import SparkSession\n",
    "spark = SparkSession.builder.master(\"local[*]\").getOrCreate()\n",
    "# Colab is ready to run Pyspark!"
   ]
  },
  {
   "cell_type": "code",
   "execution_count": 9,
   "metadata": {
    "id": "nZNtpQJPXMNZ"
   },
   "outputs": [],
   "source": [
    "from pyspark import SparkContext\n",
    "sc =SparkContext.getOrCreate()"
   ]
  },
  {
   "cell_type": "code",
   "execution_count": 10,
   "metadata": {
    "id": "nd0iKJRLXMQl"
   },
   "outputs": [],
   "source": [
    "# Read Amazon_Responded_Oct05 data \n",
    "data = spark.read.format(\"csv\").option(\"header\",\"true\").load(\"drive/My\\ Drive/Colab\\ Notebooks/Amazon_Responded_Oct05.csv\")"
   ]
  },
  {
   "cell_type": "code",
   "execution_count": 11,
   "metadata": {
    "colab": {
     "base_uri": "https://localhost:8080/"
    },
    "id": "0rKbORYhXin4",
    "outputId": "898476e0-73df-4004-a877-857d9424d7e1"
   },
   "outputs": [
    {
     "name": "stdout",
     "output_type": "stream",
     "text": [
      "+--------------------+--------------------+----------------+-----------+-------------------+---------------------+--------------+-----------------+--------------+--------------------+-------------+-------------+--------------------+------------------+--------------------+--------------+--------------------+--------------+---------+-----------------------+-------------------------+-----------------------+-------------+---------+--------------------+\n",
      "|              id_str|    tweet_created_at|user_screen_name|user_id_str|user_statuses_count|user_favourites_count|user_protected|user_listed_count|user_following|    user_description|user_location|user_verified|user_followers_count|user_friends_count|     user_created_at|tweet_language|               text_|favorite_count|favorited|in_reply_to_screen_name|in_reply_to_status_id_str|in_reply_to_user_id_str|retweet_count|retweeted|                text|\n",
      "+--------------------+--------------------+----------------+-----------+-------------------+---------------------+--------------+-----------------+--------------+--------------------+-------------+-------------+--------------------+------------------+--------------------+--------------+--------------------+--------------+---------+-----------------------+-------------------------+-----------------------+-------------+---------+--------------------+\n",
      "|'793270689780203520'|Tue Nov 01 01:57:...|     SeanEPanjab|  143515471|              51287|                 4079|         False|               74|         False|Content marketer;...|   غریب الوطن|        False|                1503|               850|Thu May 13 17:43:...|            en|@AmazonHelp Can y...|             0|    False|             AmazonHelp|                     null|               85741735|            0|    False|                null|\n",
      "|'793281386912354304'|Tue Nov 01 02:39:...|      AmazonHelp|   85741735|            2225450|                11366|         False|              796|         False|We answer Amazon ...|         null|         True|              149569|                53|Wed Oct 28 04:17:...|            en|@SeanEPanjab I'm ...|             0|    False|            SeanEPanjab|     7.932706897802035...|              143515471|            0|    False|                null|\n",
      "|'793501578766319616'|Tue Nov 01 17:14:...|     SeanEPanjab|  143515471|              51287|                 4079|         False|               74|         False|Content marketer;...|   غریب الوطن|        False|                1503|               850|Thu May 13 17:43:...|            en|@AmazonHelp It wa...|             0|    False|             AmazonHelp|     7.932813869123543...|               85741735|            0|    False|@AmazonHelp It wa...|\n",
      "|'793501657346682880'|Tue Nov 01 17:15:...|     SeanEPanjab|  143515471|              51287|                 4079|         False|               74|         False|Content marketer;...|   غریب الوطن|        False|                1503|               850|Thu May 13 17:43:...|            en|@AmazonHelp I am ...|             0|    False|             AmazonHelp|     7.932813869123543...|               85741735|            0|    False|                null|\n",
      "|'793502854459879424'|Tue Nov 01 17:19:...|      AmazonHelp|   85741735|            2225450|                11366|         False|              796|         False|We answer Amazon ...|         null|         True|              149569|                53|Wed Oct 28 04:17:...|            en|@SeanEPanjab Plea...|             0|    False|            SeanEPanjab|     7.935015787663196...|              143515471|            0|    False|@SeanEPanjab Plea...|\n",
      "+--------------------+--------------------+----------------+-----------+-------------------+---------------------+--------------+-----------------+--------------+--------------------+-------------+-------------+--------------------+------------------+--------------------+--------------+--------------------+--------------+---------+-----------------------+-------------------------+-----------------------+-------------+---------+--------------------+\n",
      "only showing top 5 rows\n",
      "\n"
     ]
    }
   ],
   "source": [
    "data.show(5)"
   ]
  },
  {
   "cell_type": "code",
   "execution_count": 12,
   "metadata": {
    "id": "TPwQjpblXisP"
   },
   "outputs": [],
   "source": [
    "new_data = data.select( \"tweet_created_at\", \"user_screen_name\", \"user_id_str\", \"text_\")"
   ]
  },
  {
   "cell_type": "code",
   "execution_count": 13,
   "metadata": {
    "id": "_rFQYJgeXMS6"
   },
   "outputs": [],
   "source": [
    "new_rdd = new_data.withColumn(\"day\", new_data.tweet_created_at.substr(5,6))"
   ]
  },
  {
   "cell_type": "code",
   "execution_count": 14,
   "metadata": {
    "colab": {
     "base_uri": "https://localhost:8080/"
    },
    "id": "gfmDLIWgXMWd",
    "outputId": "ec618006-cafd-4ce8-98de-95c4edadf0ab"
   },
   "outputs": [
    {
     "name": "stdout",
     "output_type": "stream",
     "text": [
      "+--------------------+----------------+-----------+--------------------+\n",
      "|    tweet_created_at|user_screen_name|user_id_str|               text_|\n",
      "+--------------------+----------------+-----------+--------------------+\n",
      "|Tue Nov 01 01:57:...|     SeanEPanjab|  143515471|@AmazonHelp Can y...|\n",
      "|Tue Nov 01 02:39:...|      AmazonHelp|   85741735|@SeanEPanjab I'm ...|\n",
      "|Tue Nov 01 17:14:...|     SeanEPanjab|  143515471|@AmazonHelp It wa...|\n",
      "|Tue Nov 01 17:15:...|     SeanEPanjab|  143515471|@AmazonHelp I am ...|\n",
      "|Tue Nov 01 17:19:...|      AmazonHelp|   85741735|@SeanEPanjab Plea...|\n",
      "+--------------------+----------------+-----------+--------------------+\n",
      "only showing top 5 rows\n",
      "\n"
     ]
    }
   ],
   "source": [
    "new_data.show(5)"
   ]
  },
  {
   "cell_type": "code",
   "execution_count": 15,
   "metadata": {
    "id": "4R0q4O7wXMbI"
   },
   "outputs": [],
   "source": [
    "expression = r\"\\w{3} \\d{2}\"\n",
    "df = new_rdd.filter(new_rdd[\"day\"].rlike(expression ))"
   ]
  },
  {
   "cell_type": "code",
   "execution_count": 16,
   "metadata": {
    "colab": {
     "base_uri": "https://localhost:8080/"
    },
    "id": "PYg_JBAdXMfk",
    "outputId": "0e5a1bd5-44b2-43ad-93a8-f89b2cf95dc8"
   },
   "outputs": [
    {
     "name": "stdout",
     "output_type": "stream",
     "text": [
      "+--------------------+----------------+-----------+--------------------+------+\n",
      "|    tweet_created_at|user_screen_name|user_id_str|               text_|   day|\n",
      "+--------------------+----------------+-----------+--------------------+------+\n",
      "|Tue Nov 01 01:57:...|     SeanEPanjab|  143515471|@AmazonHelp Can y...|Nov 01|\n",
      "|Tue Nov 01 02:39:...|      AmazonHelp|   85741735|@SeanEPanjab I'm ...|Nov 01|\n",
      "|Tue Nov 01 17:14:...|     SeanEPanjab|  143515471|@AmazonHelp It wa...|Nov 01|\n",
      "|Tue Nov 01 17:15:...|     SeanEPanjab|  143515471|@AmazonHelp I am ...|Nov 01|\n",
      "|Tue Nov 01 17:19:...|      AmazonHelp|   85741735|@SeanEPanjab Plea...|Nov 01|\n",
      "|Tue Nov 01 17:25:...|      AmazonHelp|   85741735|@SeanEPanjab With...|Nov 01|\n",
      "|Tue Nov 01 17:55:...|     SeanEPanjab|  143515471|@AmazonHelp It wa...|Nov 01|\n",
      "|Tue Nov 01 17:55:...|     SeanEPanjab|  143515471|@AmazonHelp if it...|Nov 01|\n",
      "|Tue Nov 01 18:02:...|      AmazonHelp|   85741735|@SeanEPanjab I'm ...|Nov 01|\n",
      "|Tue Nov 01 03:51:...|   aakashwangnoo|   71457972|@JeffBezos @amazo...|Nov 01|\n",
      "|Tue Nov 01 03:59:...|      AmazonHelp|   85741735|@aakashwangnoo Hi...|Nov 01|\n",
      "|Tue Nov 01 11:00:...|   aakashwangnoo|   71457972|@AmazonHelp How m...|Nov 01|\n",
      "|Tue Nov 01 12:03:...|      AmazonHelp|   85741735|@aakashwangnoo Hi...|Nov 01|\n",
      "|Tue Nov 01 12:03:...|      AmazonHelp|   85741735|@aakashwangnoo Pl...|Nov 01|\n",
      "|Tue Nov 01 14:57:...|   aakashwangnoo|   71457972|@AmazonHelp @amaz...|Nov 01|\n",
      "|Tue Nov 01 16:38:...|      AmazonHelp|   85741735|@aakashwangnoo Hi...|Nov 01|\n",
      "|Tue Nov 01 19:27:...|   aakashwangnoo|   71457972|@AmazonHelp @amaz...|Nov 01|\n",
      "|Tue Nov 01 19:28:...|   aakashwangnoo|   71457972|@AmazonHelp @amaz...|Nov 01|\n",
      "|Tue Nov 01 19:38:...|   aakashwangnoo|   71457972|@AmazonHelp @amaz...|Nov 01|\n",
      "|Tue Nov 01 19:40:...|   aakashwangnoo|   71457972|@AmazonHelp @amaz...|Nov 01|\n",
      "+--------------------+----------------+-----------+--------------------+------+\n",
      "only showing top 20 rows\n",
      "\n"
     ]
    }
   ],
   "source": [
    "df.show()"
   ]
  },
  {
   "cell_type": "code",
   "execution_count": 17,
   "metadata": {
    "id": "fS6N-dIEY4iA"
   },
   "outputs": [],
   "source": [
    "df.createOrReplaceTempView(\"Amazon\") # Rename the data"
   ]
  },
  {
   "cell_type": "markdown",
   "metadata": {
    "id": "8Pz5rt_BdOIC"
   },
   "source": [
    "## **TASKS**"
   ]
  },
  {
   "cell_type": "markdown",
   "metadata": {
    "id": "QKzADPW0ahwG"
   },
   "source": [
    "### **Step 1**\n",
    "\n",
    "\n",
    "Create a dataframe “daily_active_users”. Find out the users who are active in at least five listed days (i.e., created posts in at least 5 days) in Amazon_Responded_Oct05.csv and save their “user_screen_name” and “user_id_str” in the dataframe. "
   ]
  },
  {
   "cell_type": "code",
   "execution_count": 18,
   "metadata": {
    "colab": {
     "base_uri": "https://localhost:8080/"
    },
    "id": "D--63ag5ckjK",
    "outputId": "99351eb8-cfe7-4212-b4d1-c90347855b7b"
   },
   "outputs": [
    {
     "name": "stdout",
     "output_type": "stream",
     "text": [
      "+-------------------+\n",
      "|count(DISTINCT day)|\n",
      "+-------------------+\n",
      "|                279|\n",
      "+-------------------+\n",
      "\n"
     ]
    }
   ],
   "source": [
    "# Let's find the total number of days in Amazon dataset\n",
    "spark.sql(\"SELECT COUNT(DISTINCT(day)) FROM Amazon WHERE day NOT LIKE 'has%' \").show()"
   ]
  },
  {
   "cell_type": "code",
   "execution_count": 19,
   "metadata": {
    "colab": {
     "base_uri": "https://localhost:8080/"
    },
    "id": "7v6HNq5rY48y",
    "outputId": "1dd6649b-d70e-42fa-adac-acfb34c036a9"
   },
   "outputs": [
    {
     "name": "stdout",
     "output_type": "stream",
     "text": [
      "+----------------+-----------+\n",
      "|user_screen_name|user_id_str|\n",
      "+----------------+-----------+\n",
      "|      AmazonHelp|   85741735|\n",
      "+----------------+-----------+\n",
      "\n"
     ]
    }
   ],
   "source": [
    "# From the above query, we know that users posted for 279 days. Now, let's find users that posted on ALL DAYS \n",
    "spark.sql(\"SELECT user_screen_name, user_id_str FROM Amazon GROUP BY user_id_str, user_screen_name HAVING COUNT(DISTINCT(day))= 279\").show()"
   ]
  },
  {
   "cell_type": "code",
   "execution_count": 20,
   "metadata": {
    "colab": {
     "base_uri": "https://localhost:8080/"
    },
    "id": "Sr9idAQEY4tv",
    "outputId": "2d413f62-14c2-4c3c-ead6-f335917b843c"
   },
   "outputs": [
    {
     "name": "stdout",
     "output_type": "stream",
     "text": [
      "+----------------+------------------+-----------+\n",
      "|user_screen_name|       user_id_str|days_active|\n",
      "+----------------+------------------+-----------+\n",
      "|          0xJAKE|        4146949275|          5|\n",
      "|         2SixTwo|        3789082213|          7|\n",
      "| 353839052d72499|        3025211876|          9|\n",
      "|   5thLineTalent|          24237942|          5|\n",
      "|          AW0079|          21064452|         13|\n",
      "|  Abhinav1bansal|        3315608602|          5|\n",
      "|        AgentDie|        2200871844|          7|\n",
      "|  Ahmed_Awad1212|          62705229|          5|\n",
      "|       AjeetKarn|         278977971|          5|\n",
      "|    AkiraSakura2|        1064415878|          6|\n",
      "|  Akshay_goplani|        2889927415|         10|\n",
      "| Alfonsiawarrior|        2333955555|          7|\n",
      "|         Alokzgh|733116597825495040|          5|\n",
      "|      AmazonHelp|          85741735|        279|\n",
      "|          Amez_W|        1341265634|          5|\n",
      "|        AmpersUK|         214049826|          5|\n",
      "| AmyUnitedStates|        2953709027|          5|\n",
      "|    AndyMRoberts|         301381979|          6|\n",
      "|           Aosc2|        1543185697|          5|\n",
      "|        Arthi305|737607555858325504|          7|\n",
      "+----------------+------------------+-----------+\n",
      "only showing top 20 rows\n",
      "\n"
     ]
    }
   ],
   "source": [
    "# Next, we find users who are active in at least five listed days (i.e., created posts in at least 5 days)\n",
    "daily_active_users = spark.sql(\"SELECT user_screen_name, user_id_str, COUNT(DISTINCT(day)) as days_active FROM Amazon GROUP BY user_id_str, user_screen_name HAVING COUNT(DISTINCT(day)) >= 5 ORDER BY user_screen_name\")\n",
    "daily_active_users.show()"
   ]
  },
  {
   "cell_type": "markdown",
   "metadata": {
    "id": "OYvXMrxIdPxV"
   },
   "source": [
    "### **Step 2**\n",
    "\n",
    "A company would like to conduct an A/B test on Twitter. The experiment.txt file includes the user_id_str they selected as potential experiment targets. Please create a dataframe “experiment_user” to document the selected user id and whether they are active users (join the dataframe from step 1)."
   ]
  },
  {
   "cell_type": "code",
   "execution_count": 21,
   "metadata": {
    "id": "NGwQ3uA2Y4rE"
   },
   "outputs": [],
   "source": [
    "experiment = spark.read.csv(\"/content/drive/My Drive/MIS/Fall 2020/IDS 561 Big data/experiment.txt\")"
   ]
  },
  {
   "cell_type": "code",
   "execution_count": 22,
   "metadata": {
    "id": "Q7k6WJdWdf9a"
   },
   "outputs": [],
   "source": [
    "experiment= experiment.selectExpr(\"_c0 as userid\")"
   ]
  },
  {
   "cell_type": "code",
   "execution_count": 23,
   "metadata": {
    "colab": {
     "base_uri": "https://localhost:8080/"
    },
    "id": "wqkBL7LzdgCP",
    "outputId": "cf907ad3-40e0-4d01-d304-03805de0d8eb"
   },
   "outputs": [
    {
     "name": "stdout",
     "output_type": "stream",
     "text": [
      "+----------+\n",
      "|    userid|\n",
      "+----------+\n",
      "| 143515471|\n",
      "|  85741735|\n",
      "|  71457972|\n",
      "|2908108256|\n",
      "| 106799492|\n",
      "+----------+\n",
      "only showing top 5 rows\n",
      "\n"
     ]
    },
    {
     "data": {
      "text/plain": [
       "[('userid', 'string')]"
      ]
     },
     "execution_count": 23,
     "metadata": {
      "tags": []
     },
     "output_type": "execute_result"
    }
   ],
   "source": [
    "experiment.show(5)\n",
    "experiment.dtypes"
   ]
  },
  {
   "cell_type": "code",
   "execution_count": 24,
   "metadata": {
    "id": "E0kIG5A_eCK0"
   },
   "outputs": [],
   "source": [
    "#Join the output tables\n",
    "join = (experiment.userid == daily_active_users.user_id_str)"
   ]
  },
  {
   "cell_type": "code",
   "execution_count": 25,
   "metadata": {
    "id": "Uu00O24keCOv"
   },
   "outputs": [],
   "source": [
    "#Perform a full join on the tables\n",
    "df2 = daily_active_users.join(experiment, join, how=\"full\")"
   ]
  },
  {
   "cell_type": "code",
   "execution_count": 26,
   "metadata": {
    "id": "ufYqOeHaeCS2"
   },
   "outputs": [],
   "source": [
    "from pyspark.sql import functions as F"
   ]
  },
  {
   "cell_type": "code",
   "execution_count": 27,
   "metadata": {
    "id": "moQ7cGzyeCWe"
   },
   "outputs": [],
   "source": [
    "df2 = df2.withColumn(\"Whether_active\", F.when(F.col(\"user_id_str\") == F.col(\"userid\"), \"yes\").otherwise(\"no\"))"
   ]
  },
  {
   "cell_type": "code",
   "execution_count": 28,
   "metadata": {
    "colab": {
     "base_uri": "https://localhost:8080/"
    },
    "id": "mW0AtfGdeCaE",
    "outputId": "27c5e127-04f6-49d5-ca53-117bdcfafaed"
   },
   "outputs": [
    {
     "name": "stdout",
     "output_type": "stream",
     "text": [
      "+----------------+------------------+-----------+------------------+--------------+\n",
      "|user_screen_name|       user_id_str|days_active|            userid|Whether_active|\n",
      "+----------------+------------------+-----------+------------------+--------------+\n",
      "|          0xJAKE|        4146949275|          5|              null|            no|\n",
      "|         2SixTwo|        3789082213|          7|              null|            no|\n",
      "| 353839052d72499|        3025211876|          9|              null|            no|\n",
      "|   5thLineTalent|          24237942|          5|              null|            no|\n",
      "|          AW0079|          21064452|         13|          21064452|           yes|\n",
      "|  Abhinav1bansal|        3315608602|          5|              null|            no|\n",
      "|        AgentDie|        2200871844|          7|              null|            no|\n",
      "|  Ahmed_Awad1212|          62705229|          5|              null|            no|\n",
      "|       AjeetKarn|         278977971|          5|              null|            no|\n",
      "|    AkiraSakura2|        1064415878|          6|              null|            no|\n",
      "|  Akshay_goplani|        2889927415|         10|              null|            no|\n",
      "| Alfonsiawarrior|        2333955555|          7|              null|            no|\n",
      "|         Alokzgh|733116597825495040|          5|              null|            no|\n",
      "|      AmazonHelp|          85741735|        279|          85741735|           yes|\n",
      "|          Amez_W|        1341265634|          5|        1341265634|           yes|\n",
      "|        AmpersUK|         214049826|          5|         214049826|           yes|\n",
      "| AmyUnitedStates|        2953709027|          5|              null|            no|\n",
      "|    AndyMRoberts|         301381979|          6|         301381979|           yes|\n",
      "|           Aosc2|        1543185697|          5|        1543185697|           yes|\n",
      "|        Arthi305|737607555858325504|          7|737607555858325504|           yes|\n",
      "+----------------+------------------+-----------+------------------+--------------+\n",
      "only showing top 20 rows\n",
      "\n"
     ]
    }
   ],
   "source": [
    "# Clean data by filtering null screen names\n",
    "df2= df2.filter(df2.user_screen_name.isNotNull())\n",
    "df2.show()"
   ]
  },
  {
   "cell_type": "code",
   "execution_count": 29,
   "metadata": {
    "id": "Xpf6iSpmeCdZ"
   },
   "outputs": [],
   "source": [
    "new_user = df2.drop(\"user_id_str\", \"userid\")"
   ]
  },
  {
   "cell_type": "code",
   "execution_count": 30,
   "metadata": {
    "colab": {
     "base_uri": "https://localhost:8080/"
    },
    "id": "3_1HIhMFeChG",
    "outputId": "29ae7b19-2b46-4e51-ba14-8f03702443f6"
   },
   "outputs": [
    {
     "name": "stdout",
     "output_type": "stream",
     "text": [
      "+---------------+--------------+\n",
      "|    user_id_str|Whether_active|\n",
      "+---------------+--------------+\n",
      "|         0xJAKE|            no|\n",
      "|        2SixTwo|            no|\n",
      "|353839052d72499|            no|\n",
      "|  5thLineTalent|            no|\n",
      "|         AW0079|           yes|\n",
      "| Abhinav1bansal|            no|\n",
      "|       AgentDie|            no|\n",
      "| Ahmed_Awad1212|            no|\n",
      "|      AjeetKarn|            no|\n",
      "|   AkiraSakura2|            no|\n",
      "| Akshay_goplani|            no|\n",
      "|Alfonsiawarrior|            no|\n",
      "|        Alokzgh|            no|\n",
      "|     AmazonHelp|           yes|\n",
      "|         Amez_W|           yes|\n",
      "|       AmpersUK|           yes|\n",
      "|AmyUnitedStates|            no|\n",
      "|   AndyMRoberts|           yes|\n",
      "|          Aosc2|           yes|\n",
      "|       Arthi305|           yes|\n",
      "+---------------+--------------+\n",
      "only showing top 20 rows\n",
      "\n"
     ]
    }
   ],
   "source": [
    "# Show if a user is active or not\n",
    "new_user = new_user.selectExpr(\"user_screen_name as user_id_str\", \"Whether_active\")\n",
    "new_user.show(20) # Show only 20 records"
   ]
  },
  {
   "cell_type": "code",
   "execution_count": 31,
   "metadata": {
    "id": "V4R6YKYHezBP"
   },
   "outputs": [],
   "source": [
    "# Filter out users who are active users and who are not\n",
    "active = new_user.filter(new_user.Whether_active.contains(\"yes\")).count()\n",
    "inactive = new_user.filter(new_user.Whether_active.contains(\"no\")).count()"
   ]
  },
  {
   "cell_type": "code",
   "execution_count": 32,
   "metadata": {
    "id": "2Qk03WRtjDxD"
   },
   "outputs": [],
   "source": [
    "# Calculate the percentage of active users\n",
    "percentage_of_active_users = (active/(active+inactive))*100"
   ]
  },
  {
   "cell_type": "code",
   "execution_count": 33,
   "metadata": {
    "colab": {
     "base_uri": "https://localhost:8080/"
    },
    "id": "6mdFDCbmjD1v",
    "outputId": "f7e4b5a5-fad9-4924-812e-ca2f5761e039"
   },
   "outputs": [
    {
     "data": {
      "text/plain": [
       "20.404721753794266"
      ]
     },
     "execution_count": 33,
     "metadata": {
      "tags": []
     },
     "output_type": "execute_result"
    }
   ],
   "source": [
    "percentage_of_active_users"
   ]
  },
  {
   "cell_type": "markdown",
   "metadata": {
    "id": "PjIFaUC0jaJs"
   },
   "source": [
    "### **Step 3**\n",
    "\n",
    "Perform a 3-table join task"
   ]
  },
  {
   "cell_type": "code",
   "execution_count": 34,
   "metadata": {
    "colab": {
     "base_uri": "https://localhost:8080/"
    },
    "id": "6twVs5CSjD7K",
    "outputId": "db6927ef-3738-4814-8371-85bc21668939"
   },
   "outputs": [
    {
     "name": "stdout",
     "output_type": "stream",
     "text": [
      "+--------------------+--------------------+----------------+-----------+-------------------+---------------------+--------------+-----------------+--------------+--------------------+-------------+-------------+--------------------+------------------+--------------------+--------------+--------------------+--------------+---------+-----------------------+-------------------------+-----------------------+-------------+---------+--------------------+\n",
      "|              id_str|    tweet_created_at|user_screen_name|user_id_str|user_statuses_count|user_favourites_count|user_protected|user_listed_count|user_following|    user_description|user_location|user_verified|user_followers_count|user_friends_count|     user_created_at|tweet_language|               text_|favorite_count|favorited|in_reply_to_screen_name|in_reply_to_status_id_str|in_reply_to_user_id_str|retweet_count|retweeted|                text|\n",
      "+--------------------+--------------------+----------------+-----------+-------------------+---------------------+--------------+-----------------+--------------+--------------------+-------------+-------------+--------------------+------------------+--------------------+--------------+--------------------+--------------+---------+-----------------------+-------------------------+-----------------------+-------------+---------+--------------------+\n",
      "|'793270689780203520'|Tue Nov 01 01:57:...|     SeanEPanjab|  143515471|              51287|                 4079|         False|               74|         False|Content marketer;...|   غریب الوطن|        False|                1503|               850|Thu May 13 17:43:...|            en|@AmazonHelp Can y...|             0|    False|             AmazonHelp|                     null|               85741735|            0|    False|                null|\n",
      "|'793281386912354304'|Tue Nov 01 02:39:...|      AmazonHelp|   85741735|            2225450|                11366|         False|              796|         False|We answer Amazon ...|         null|         True|              149569|                53|Wed Oct 28 04:17:...|            en|@SeanEPanjab I'm ...|             0|    False|            SeanEPanjab|     7.932706897802035...|              143515471|            0|    False|                null|\n",
      "|'793501578766319616'|Tue Nov 01 17:14:...|     SeanEPanjab|  143515471|              51287|                 4079|         False|               74|         False|Content marketer;...|   غریب الوطن|        False|                1503|               850|Thu May 13 17:43:...|            en|@AmazonHelp It wa...|             0|    False|             AmazonHelp|     7.932813869123543...|               85741735|            0|    False|@AmazonHelp It wa...|\n",
      "|'793501657346682880'|Tue Nov 01 17:15:...|     SeanEPanjab|  143515471|              51287|                 4079|         False|               74|         False|Content marketer;...|   غریب الوطن|        False|                1503|               850|Thu May 13 17:43:...|            en|@AmazonHelp I am ...|             0|    False|             AmazonHelp|     7.932813869123543...|               85741735|            0|    False|                null|\n",
      "|'793502854459879424'|Tue Nov 01 17:19:...|      AmazonHelp|   85741735|            2225450|                11366|         False|              796|         False|We answer Amazon ...|         null|         True|              149569|                53|Wed Oct 28 04:17:...|            en|@SeanEPanjab Plea...|             0|    False|            SeanEPanjab|     7.935015787663196...|              143515471|            0|    False|@SeanEPanjab Plea...|\n",
      "|'793504235400884224'|Tue Nov 01 17:25:...|      AmazonHelp|   85741735|            2225450|                11366|         False|              796|         False|We answer Amazon ...|         null|         True|              149569|                53|Wed Oct 28 04:17:...|            en|@SeanEPanjab With...|             0|    False|            SeanEPanjab|     7.935016573466829...|              143515471|            0|    False|                null|\n",
      "|'793511847899070465'|Tue Nov 01 17:55:...|     SeanEPanjab|  143515471|              51287|                 4079|         False|               74|         False|Content marketer;...|   غریب الوطن|        False|                1503|               850|Thu May 13 17:43:...|            en|@AmazonHelp It wa...|             0|    False|             AmazonHelp|     7.935042354008842...|               85741735|            0|    False|                null|\n",
      "|'793511899279208449'|Tue Nov 01 17:55:...|     SeanEPanjab|  143515471|              51287|                 4079|         False|               74|         False|Content marketer;...|   غریب الوطن|        False|                1503|               850|Thu May 13 17:43:...|            en|@AmazonHelp if it...|             0|    False|             AmazonHelp|     7.935042354008842...|               85741735|            0|    False|                null|\n",
      "|'793513446633533440'|Tue Nov 01 18:02:...|      AmazonHelp|   85741735|            2225450|                11366|         False|              796|         False|We answer Amazon ...|         null|         True|              149569|                53|Wed Oct 28 04:17:...|            en|@SeanEPanjab I'm ...|             0|    False|            SeanEPanjab|     7.935118992792084...|              143515471|            0|    False|@SeanEPanjab I'm ...|\n",
      "|'793299404975247360'|Tue Nov 01 03:51:...|   aakashwangnoo|   71457972|                592|                  471|         False|               11|         False|Don't try to be G...|    New Delhi|        False|                 234|                57|Fri Sep 04 04:55:...|            en|@JeffBezos @amazo...|             0|    False|              JeffBezos|                     null|               15506669|            0|    False|                null|\n",
      "+--------------------+--------------------+----------------+-----------+-------------------+---------------------+--------------+-----------------+--------------+--------------------+-------------+-------------+--------------------+------------------+--------------------+--------------+--------------------+--------------+---------+-----------------------+-------------------------+-----------------------+-------------+---------+--------------------+\n",
      "only showing top 10 rows\n",
      "\n"
     ]
    }
   ],
   "source": [
    "data.show(10)"
   ]
  },
  {
   "cell_type": "code",
   "execution_count": 35,
   "metadata": {
    "colab": {
     "base_uri": "https://localhost:8080/"
    },
    "id": "2Xjz-sWNjvuJ",
    "outputId": "dce6304d-3bc4-4140-9ba9-ad002e426651"
   },
   "outputs": [
    {
     "name": "stdout",
     "output_type": "stream",
     "text": [
      "+---------------+--------------+\n",
      "|    user_id_str|Whether_active|\n",
      "+---------------+--------------+\n",
      "|         0xJAKE|            no|\n",
      "|        2SixTwo|            no|\n",
      "|353839052d72499|            no|\n",
      "|  5thLineTalent|            no|\n",
      "|         AW0079|           yes|\n",
      "| Abhinav1bansal|            no|\n",
      "|       AgentDie|            no|\n",
      "| Ahmed_Awad1212|            no|\n",
      "|      AjeetKarn|            no|\n",
      "|   AkiraSakura2|            no|\n",
      "+---------------+--------------+\n",
      "only showing top 10 rows\n",
      "\n"
     ]
    }
   ],
   "source": [
    "new_user.show(10)"
   ]
  },
  {
   "cell_type": "code",
   "execution_count": 36,
   "metadata": {
    "colab": {
     "base_uri": "https://localhost:8080/"
    },
    "id": "OtThS_ERjvy2",
    "outputId": "b8f1b39c-4099-4642-828f-7460a2d68b09"
   },
   "outputs": [
    {
     "name": "stdout",
     "output_type": "stream",
     "text": [
      "+----------------+-----------+-----------+\n",
      "|user_screen_name|user_id_str|days_active|\n",
      "+----------------+-----------+-----------+\n",
      "|          0xJAKE| 4146949275|          5|\n",
      "|         2SixTwo| 3789082213|          7|\n",
      "| 353839052d72499| 3025211876|          9|\n",
      "|   5thLineTalent|   24237942|          5|\n",
      "|          AW0079|   21064452|         13|\n",
      "|  Abhinav1bansal| 3315608602|          5|\n",
      "|        AgentDie| 2200871844|          7|\n",
      "|  Ahmed_Awad1212|   62705229|          5|\n",
      "|       AjeetKarn|  278977971|          5|\n",
      "|    AkiraSakura2| 1064415878|          6|\n",
      "+----------------+-----------+-----------+\n",
      "only showing top 10 rows\n",
      "\n"
     ]
    }
   ],
   "source": [
    "daily_active_users.show(10)"
   ]
  },
  {
   "cell_type": "code",
   "execution_count": 38,
   "metadata": {
    "colab": {
     "base_uri": "https://localhost:8080/"
    },
    "id": "cviECTBKjv8C",
    "outputId": "97a202d0-1430-4a7b-ba07-55de652903fc"
   },
   "outputs": [
    {
     "name": "stdout",
     "output_type": "stream",
     "text": [
      "+----------------+-----------+-----------+--------------+--------------+--------------------+--------------------+----------------+-----------+-------------------+---------------------+--------------+-----------------+--------------+--------------------+------------------+-------------+--------------------+------------------+--------------------+--------------+--------------------+--------------+---------+-----------------------+-------------------------+-----------------------+-------------+---------+--------------------+\n",
      "|user_screen_name|user_id_str|days_active|   user_id_str|Whether_active|              id_str|    tweet_created_at|user_screen_name|user_id_str|user_statuses_count|user_favourites_count|user_protected|user_listed_count|user_following|    user_description|     user_location|user_verified|user_followers_count|user_friends_count|     user_created_at|tweet_language|               text_|favorite_count|favorited|in_reply_to_screen_name|in_reply_to_status_id_str|in_reply_to_user_id_str|retweet_count|retweeted|                text|\n",
      "+----------------+-----------+-----------+--------------+--------------+--------------------+--------------------+----------------+-----------+-------------------+---------------------+--------------+-----------------+--------------+--------------------+------------------+-------------+--------------------+------------------+--------------------+--------------+--------------------+--------------+---------+-----------------------+-------------------------+-----------------------+-------------+---------+--------------------+\n",
      "|  Green_JamesBee|  466384851|          6|Green_JamesBee|            no|'813003192896258048'|Sun Dec 25 12:47:...|  Green_JamesBee|  466384851|              14934|                 2492|         False|               29|         False|Charity comms bod...|Lewisham, London, |        False|                 629|              1190|Tue Jan 17 10:35:...|            en|Mum's @AmazonUK o...|             0|    False|                   null|                     null|                   null|            0|    False|                null|\n",
      "|  Green_JamesBee|  466384851|          6|Green_JamesBee|            no|'813005918401130497'|Sun Dec 25 12:58:...|  Green_JamesBee|  466384851|              14934|                 2492|         False|               29|         False|Charity comms bod...|Lewisham, London, |        False|                 629|              1190|Tue Jan 17 10:35:...|            en|@AmazonHelp it's ...|             0|    False|             AmazonHelp|     8.130052269827359...|             85741735.0|            0|    False|                null|\n",
      "|  Green_JamesBee|  466384851|          6|Green_JamesBee|            no|'813009506993049600'|Sun Dec 25 13:12:...|  Green_JamesBee|  466384851|              14934|                 2492|         False|               29|         False|Charity comms bod...|Lewisham, London, |        False|                 629|              1190|Tue Jan 17 10:35:...|            en|@AmazonHelp and y...|             0|    False|             AmazonHelp|     8.130064191842877...|             85741735.0|            0|    False|                null|\n",
      "|  Green_JamesBee|  466384851|          6|Green_JamesBee|            no|'813035524285988864'|Sun Dec 25 14:55:...|  Green_JamesBee|  466384851|              14934|                 2492|         False|               29|         False|Charity comms bod...|Lewisham, London, |        False|                 629|              1190|Tue Jan 17 10:35:...|            en|@AmazonHelp the o...|             0|    False|             AmazonHelp|     8.130064191842877...|             85741735.0|            0|    False|                null|\n",
      "|  Green_JamesBee|  466384851|          6|Green_JamesBee|            no|'813037115818831872'|Sun Dec 25 15:02:...|  Green_JamesBee|  466384851|              14934|                 2492|         False|               29|         False|Charity comms bod...|Lewisham, London, |        False|                 629|              1190|Tue Jan 17 10:35:...|            en|@AmazonHelp ok I'...|             0|    False|             AmazonHelp|     8.130064191842877...|             85741735.0|            0|    False|@AmazonHelp ok I'...|\n",
      "|  Green_JamesBee|  466384851|          6|Green_JamesBee|            no|'813042308925030400'|Sun Dec 25 15:22:...|  Green_JamesBee|  466384851|              14934|                 2492|         False|               29|         False|Charity comms bod...|Lewisham, London, |        False|                 629|              1190|Tue Jan 17 10:35:...|            en|@AmazonHelp none ...|             0|    False|             AmazonHelp|     8.130412306323374...|             85741735.0|            0|    False|                null|\n",
      "|  Green_JamesBee|  466384851|          6|Green_JamesBee|            no|'813425652770672641'|Mon Dec 26 16:46:...|  Green_JamesBee|  466384851|              14934|                 2492|         False|               29|         False|Charity comms bod...|Lewisham, London, |        False|                 629|              1190|Tue Jan 17 10:35:...|            en|@AmazonHelp you k...|             0|    False|             AmazonHelp|     8.130492873409454...|             85741735.0|            0|    False|                null|\n",
      "|  Green_JamesBee|  466384851|          6|Green_JamesBee|            no|'813425960678735872'|Mon Dec 26 16:47:...|  Green_JamesBee|  466384851|              14934|                 2492|         False|               29|         False|Charity comms bod...|Lewisham, London, |        False|                 629|              1190|Tue Jan 17 10:35:...|            en|\"@AmazonHelp how ...|             0|    False|             AmazonHelp|     8.130492873409454...|             85741735.0|            0|    False|                null|\n",
      "|  Green_JamesBee|  466384851|          6|Green_JamesBee|            no|'826511782890049537'|Tue Jan 31 19:25:...|  Green_JamesBee|  466384851|              14861|                 2445|         False|               28|         False|Comms & engagemen...|Lewisham, London, |        False|                 625|              1178|Tue Jan 17 10:35:...|            en|Hi @AmazonHelp th...|             0|    False|                   null|                     null|                   null|            0|    False|Hi @AmazonHelp th...|\n",
      "|  Green_JamesBee|  466384851|          6|Green_JamesBee|            no|'826513167476019200'|Tue Jan 31 19:31:...|  Green_JamesBee|  466384851|              14861|                 2445|         False|               28|         False|Comms & engagemen...|Lewisham, London, |        False|                 625|              1178|Tue Jan 17 10:35:...|            en|@AmazonHelp I had...|             0|    False|             AmazonHelp|     8.265129978624737...|             85741735.0|            0|    False|                null|\n",
      "|  Green_JamesBee|  466384851|          6|Green_JamesBee|            no|'826516145196957696'|Tue Jan 31 19:42:...|  Green_JamesBee|  466384851|              14861|                 2445|         False|               28|         False|Comms & engagemen...|Lewisham, London, |        False|                 625|              1178|Tue Jan 17 10:35:...|            en|@AmazonHelp can y...|             0|    False|             AmazonHelp|     8.265129978624737...|             85741735.0|            0|    False|                null|\n",
      "|  Green_JamesBee|  466384851|          6|Green_JamesBee|            no|'826535787898556418'|Tue Jan 31 21:01:...|  Green_JamesBee|  466384851|              14861|                 2445|         False|               28|         False|Comms & engagemen...|Lewisham, London, |        False|                 625|              1178|Tue Jan 17 10:35:...|            en|@AmazonHelp hi, t...|             0|    False|             AmazonHelp|     8.265177980798894...|             85741735.0|            0|    False|                null|\n",
      "|  Green_JamesBee|  466384851|          6|Green_JamesBee|            no|'826537152163016704'|Tue Jan 31 21:06:...|  Green_JamesBee|  466384851|              14861|                 2445|         False|               28|         False|Comms & engagemen...|Lewisham, London, |        False|                 625|              1178|Tue Jan 17 10:35:...|            en|@AmazonHelp no. Y...|             0|    False|             AmazonHelp|     8.265370367860695...|             85741735.0|            0|    False|                null|\n",
      "|  Green_JamesBee|  466384851|          6|Green_JamesBee|            no|'826540393101660162'|Tue Jan 31 21:19:...|  Green_JamesBee|  466384851|              14861|                 2445|         False|               28|         False|Comms & engagemen...|Lewisham, London, |        False|                 625|              1178|Tue Jan 17 10:35:...|            en|@AmazonHelp I'm o...|             0|    False|             AmazonHelp|     8.265384025647309...|             85741735.0|            0|    False|                null|\n",
      "|  Green_JamesBee|  466384851|          6|Green_JamesBee|            no|'826853382967160832'|Wed Feb 01 18:03:...|  Green_JamesBee|  466384851|              14861|                 2445|         False|               28|         False|Comms & engagemen...|Lewisham, London, |        False|                 625|              1178|Tue Jan 17 10:35:...|            en|The @AmazonHelp s...|             0|    False|                   null|                     null|                   null|            0|    False|                null|\n",
      "|  Green_JamesBee|  466384851|          6|Green_JamesBee|            no|'826857693344387072'|Wed Feb 01 18:20:...|  Green_JamesBee|  466384851|              14861|                 2445|         False|               28|         False|Comms & engagemen...|Lewisham, London, |        False|                 625|              1178|Tue Jan 17 10:35:...|            en|.@AmazonHelp it's...|             0|    False|             AmazonHelp|     8.268575079309025...|             85741735.0|            0|    False|                null|\n",
      "|  Green_JamesBee|  466384851|          6|Green_JamesBee|            no|'827094093654290432'|Thu Feb 02 09:59:...|  Green_JamesBee|  466384851|              14861|                 2445|         False|               28|         False|Comms & engagemen...|Lewisham, London, |        False|                 625|              1178|Tue Jan 17 10:35:...|            en|I don't believe t...|             0|    False|                   null|                     null|                   null|            0|    False|                null|\n",
      "|  Green_JamesBee|  466384851|          6|Green_JamesBee|            no|'827096611000025088'|Thu Feb 02 10:09:...|  Green_JamesBee|  466384851|              14861|                 2445|         False|               28|         False|Comms & engagemen...|Lewisham, London, |        False|                 625|              1178|Tue Jan 17 10:35:...|            en|@AmazonHelp it's ...|             0|    False|             AmazonHelp|     8.27096069653803e+17|             85741735.0|            0|    False|                null|\n",
      "|  Green_JamesBee|  466384851|          6|Green_JamesBee|            no|'827097739171348480'|Thu Feb 02 10:14:...|  Green_JamesBee|  466384851|              14861|                 2445|         False|               28|         False|Comms & engagemen...|Lewisham, London, |        False|                 625|              1178|Tue Jan 17 10:35:...|            en|@AmazonHelp I jus...|             0|    False|             AmazonHelp|     8.27096069653803e+17|             85741735.0|            0|    False|                null|\n",
      "|  Green_JamesBee|  466384851|          6|Green_JamesBee|            no|'827461683987828736'|Fri Feb 03 10:20:...|  Green_JamesBee|  466384851|              14861|                 2445|         False|               28|         False|Comms & engagemen...|Lewisham, London, |        False|                 625|              1178|Tue Jan 17 10:35:...|            en|Day 4 of waiting ...|             0|    False|                   null|                     null|                   null|            0|    False|                null|\n",
      "+----------------+-----------+-----------+--------------+--------------+--------------------+--------------------+----------------+-----------+-------------------+---------------------+--------------+-----------------+--------------+--------------------+------------------+-------------+--------------------+------------------+--------------------+--------------+--------------------+--------------+---------+-----------------------+-------------------------+-----------------------+-------------+---------+--------------------+\n",
      "only showing top 20 rows\n",
      "\n"
     ]
    }
   ],
   "source": [
    "# Joining the 3 tables \n",
    "joinA= (new_user.user_id_str == daily_active_users.user_screen_name)\n",
    "joinB= (daily_active_users.user_screen_name == data.user_screen_name)\n",
    "\n",
    "dfA = daily_active_users.join(new_user, joinA, how=\"inner\").join(data, joinB, how=\"right\")\n",
    "dfB= dfA.filter(df.user_screen_name.isNotNull())\n",
    "dfB.show()"
   ]
  },
  {
   "cell_type": "code",
   "execution_count": 39,
   "metadata": {
    "id": "ibdfkMM3jv3a"
   },
   "outputs": [],
   "source": [
    "import pandas as pd\n",
    "df_final = dfB.toPandas()"
   ]
  },
  {
   "cell_type": "code",
   "execution_count": 40,
   "metadata": {
    "id": "MO3gUs2llPIw"
   },
   "outputs": [],
   "source": [
    "df_final.to_csv(\"/content/drive/My Drive/MIS/Fall 2020/IDS 561 Big data/Amazon_new.csv\", header = True, index=False)"
   ]
  }
 ],
 "metadata": {
  "colab": {
   "name": "Homework4.ipynb",
   "provenance": []
  },
  "kernelspec": {
   "display_name": "Python 3",
   "language": "python",
   "name": "python3"
  },
  "language_info": {
   "codemirror_mode": {
    "name": "ipython",
    "version": 3
   },
   "file_extension": ".py",
   "mimetype": "text/x-python",
   "name": "python",
   "nbconvert_exporter": "python",
   "pygments_lexer": "ipython3",
   "version": "3.8.3"
  }
 },
 "nbformat": 4,
 "nbformat_minor": 1
}
